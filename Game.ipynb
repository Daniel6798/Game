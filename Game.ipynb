{
 "cells": [
  {
   "cell_type": "code",
   "execution_count": 1,
   "id": "ea1a9b83",
   "metadata": {},
   "outputs": [],
   "source": [
    "import random"
   ]
  },
  {
   "cell_type": "code",
   "execution_count": 2,
   "id": "23695df9",
   "metadata": {},
   "outputs": [
    {
     "name": "stdout",
     "output_type": "stream",
     "text": [
      "You can choose between 1 and 100\n"
     ]
    },
    {
     "name": "stdin",
     "output_type": "stream",
     "text": [
      "Pick a number:  50\n",
      "The number is lower, Try again, Pick a number:  40\n",
      "The number is higher, Try again, Pick a number:  45\n",
      "The number is higher, Try again, Pick a number:  47\n",
      "The number is higher, Try again, Pick a number:  49\n"
     ]
    },
    {
     "name": "stdout",
     "output_type": "stream",
     "text": [
      "Congrats! You did it, The correct number is 49 and it took you 5 guesses.\n"
     ]
    }
   ],
   "source": [
    "print('You can choose between 1 and 100')\n",
    "\n",
    "guess = int(input('Pick a number: '))\n",
    "\n",
    "correct_number = random.randint(1, 101)\n",
    "\n",
    "guess_count = 1\n",
    "\n",
    "while guess != correct_number:\n",
    "    \n",
    "    guess_count += 1\n",
    "    \n",
    "    if guess < correct_number:\n",
    "        guess = int(input('The number is higher, Try again, Pick a number: '))\n",
    "    else:\n",
    "        guess = int(input('The number is lower, Try again, Pick a number: '))\n",
    "    \n",
    "    \n",
    "print(f'Congrats! You did it, The correct number is {correct_number} and it took you {guess_count} guesses.')"
   ]
  },
  {
   "cell_type": "code",
   "execution_count": 3,
   "id": "1c13225a",
   "metadata": {},
   "outputs": [
    {
     "name": "stdin",
     "output_type": "stream",
     "text": [
      "Enter text:\n",
      " he Hyundai Creta has been posting handsome volumes since its facelift was launched earlier this year in January. In July, the mid-size SUV clocked its highest-ever monthly wholesales at 17,350 units. The vehicle has broken that record by registering remarkable volumes of 17,497 units in the domestic market in October.  The Creta's popularity can be gauged from its garnering wholesales of 113,913 units from April to October FY25, averaging 16,273 units a month.  The Creta first arrived in India in 2015. Currently, it is the best value-for-money package in the mid-size SUV segment with its diligent pricing, multiple powertrain options, and feature-loaded nature.\n"
     ]
    },
    {
     "name": "stdout",
     "output_type": "stream",
     "text": [
      "['he', 'hyundai', 'creta', 'has', 'been', 'posting', 'handsome', 'volumes', 'since', 'its', 'facelift', 'was', 'launched', 'earlier', 'this', 'year', 'in', 'january.', 'in', 'july,', 'the', 'mid-size', 'suv', 'clocked', 'its', 'highest-ever', 'monthly', 'wholesales', 'at', '17,350', 'units.', 'the', 'vehicle', 'has', 'broken', 'that', 'record', 'by', 'registering', 'remarkable', 'volumes', 'of', '17,497', 'units', 'in', 'the', 'domestic', 'market', 'in', 'october.', 'the', \"creta's\", 'popularity', 'can', 'be', 'gauged', 'from', 'its', 'garnering', 'wholesales', 'of', '113,913', 'units', 'from', 'april', 'to', 'october', 'fy25,', 'averaging', '16,273', 'units', 'a', 'month.', 'the', 'creta', 'first', 'arrived', 'in', 'india', 'in', '2015.', 'currently,', 'it', 'is', 'the', 'best', 'value-for-money', 'package', 'in', 'the', 'mid-size', 'suv', 'segment', 'with', 'its', 'diligent', 'pricing,', 'multiple', 'powertrain', 'options,', 'and', 'feature-loaded', 'nature.']\n",
      "{'he': 1, 'hyundai': 1, 'creta': 2, 'has': 2, 'been': 1, 'posting': 1, 'handsome': 1, 'volumes': 2, 'since': 1, 'its': 4, 'facelift': 1, 'was': 1, 'launched': 1, 'earlier': 1, 'this': 1, 'year': 1, 'in': 7, 'january.': 1, 'july,': 1, 'the': 7, 'mid-size': 2, 'suv': 2, 'clocked': 1, 'highest-ever': 1, 'monthly': 1, 'wholesales': 2, 'at': 1, '17,350': 1, 'units.': 1, 'vehicle': 1, 'broken': 1, 'that': 1, 'record': 1, 'by': 1, 'registering': 1, 'remarkable': 1, 'of': 2, '17,497': 1, 'units': 3, 'domestic': 1, 'market': 1, 'october.': 1, \"creta's\": 1, 'popularity': 1, 'can': 1, 'be': 1, 'gauged': 1, 'from': 2, 'garnering': 1, '113,913': 1, 'april': 1, 'to': 1, 'october': 1, 'fy25,': 1, 'averaging': 1, '16,273': 1, 'a': 1, 'month.': 1, 'first': 1, 'arrived': 1, 'india': 1, '2015.': 1, 'currently,': 1, 'it': 1, 'is': 1, 'best': 1, 'value-for-money': 1, 'package': 1, 'segment': 1, 'with': 1, 'diligent': 1, 'pricing,': 1, 'multiple': 1, 'powertrain': 1, 'options,': 1, 'and': 1, 'feature-loaded': 1, 'nature.': 1}\n"
     ]
    }
   ],
   "source": [
    "text = input('Enter text:\\n')\n",
    "\n",
    "text_split = text.lower().split()\n",
    "\n",
    "word_count = {}\n",
    "\n",
    "for word in text_split:\n",
    "    if word not in word_count:\n",
    "        word_count[word] = 1\n",
    "    else:\n",
    "        word_count[word] = word_count[word] + 1\n",
    "        \n",
    "print(text_split)\n",
    "\n",
    "print(word_count)"
   ]
  },
  {
   "cell_type": "code",
   "execution_count": 4,
   "id": "8761b6da",
   "metadata": {},
   "outputs": [
    {
     "name": "stdin",
     "output_type": "stream",
     "text": [
      "Enter text:\n",
      " he Hyundai Creta has been posting handsome volumes since its facelift was launched earlier this year in January. In July, the mid-size SUV clocked its highest-ever monthly wholesales at 17,350 units. The vehicle has broken that record by registering remarkable volumes of 17,497 units in the domestic market in October.  The Creta's popularity can be gauged from its garnering wholesales of 113,913 units from April to October FY25, averaging 16,273 units a month.  The Creta first arrived in India in 2015. Currently, it is the best value-for-money package in the mid-size SUV segment with its diligent pricing, multiple powertrain options, and feature-loaded nature.\n"
     ]
    },
    {
     "name": "stdout",
     "output_type": "stream",
     "text": [
      "{'he': 1, 'hyundai': 1, 'creta': 2, 'has': 2, 'been': 1, 'posting': 1, 'handsome': 1, 'volumes': 2, 'since': 1, 'its': 4, 'facelift': 1, 'was': 1, 'launched': 1, 'earlier': 1, 'this': 1, 'year': 1, 'in': 7, 'january.': 1, 'july,': 1, 'the': 7, 'mid-size': 2, 'suv': 2, 'clocked': 1, 'highest-ever': 1, 'monthly': 1, 'wholesales': 2, 'at': 1, '17,350': 1, 'units.': 1, 'vehicle': 1, 'broken': 1, 'that': 1, 'record': 1, 'by': 1, 'registering': 1, 'remarkable': 1, 'of': 2, '17,497': 1, 'units': 3, 'domestic': 1, 'market': 1, 'october.': 1, \"creta's\": 1, 'popularity': 1, 'can': 1, 'be': 1, 'gauged': 1, 'from': 2, 'garnering': 1, '113,913': 1, 'april': 1, 'to': 1, 'october': 1, 'fy25,': 1, 'averaging': 1, '16,273': 1, 'a': 1, 'month.': 1, 'first': 1, 'arrived': 1, 'india': 1, '2015.': 1, 'currently,': 1, 'it': 1, 'is': 1, 'best': 1, 'value-for-money': 1, 'package': 1, 'segment': 1, 'with': 1, 'diligent': 1, 'pricing,': 1, 'multiple': 1, 'powertrain': 1, 'options,': 1, 'and': 1, 'feature-loaded': 1, 'nature.': 1}\n"
     ]
    }
   ],
   "source": [
    "text = input('Enter text:\\n')\n",
    "\n",
    "word_count = {}\n",
    "\n",
    "for char in text.lower().split():\n",
    "    if char not in word_count:\n",
    "        word_count[char] = 1\n",
    "    else:\n",
    "        word_count[char] += 1\n",
    "\n",
    "print(word_count)"
   ]
  },
  {
   "cell_type": "code",
   "execution_count": 5,
   "id": "5b945174",
   "metadata": {},
   "outputs": [
    {
     "name": "stdin",
     "output_type": "stream",
     "text": [
      " 1,2,3,4,5,6,7\n"
     ]
    },
    {
     "name": "stdout",
     "output_type": "stream",
     "text": [
      "7\n"
     ]
    }
   ],
   "source": [
    "num = list(map(int,input().split(',')))\n",
    "\n",
    "biggest_num = num[0]\n",
    "\n",
    "for  i in num:\n",
    "    if i > biggest_num:\n",
    "        biggest_num = i\n",
    "        \n",
    "print(biggest_num)"
   ]
  },
  {
   "cell_type": "code",
   "execution_count": null,
   "id": "38f51746",
   "metadata": {},
   "outputs": [],
   "source": []
  }
 ],
 "metadata": {
  "kernelspec": {
   "display_name": "Python 3 (ipykernel)",
   "language": "python",
   "name": "python3"
  },
  "language_info": {
   "codemirror_mode": {
    "name": "ipython",
    "version": 3
   },
   "file_extension": ".py",
   "mimetype": "text/x-python",
   "name": "python",
   "nbconvert_exporter": "python",
   "pygments_lexer": "ipython3",
   "version": "3.11.5"
  }
 },
 "nbformat": 4,
 "nbformat_minor": 5
}
